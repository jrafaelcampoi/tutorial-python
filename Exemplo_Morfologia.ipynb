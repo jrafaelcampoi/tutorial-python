{
  "nbformat": 4,
  "nbformat_minor": 0,
  "metadata": {
    "colab": {
      "provenance": [],
      "include_colab_link": true
    },
    "kernelspec": {
      "name": "python3",
      "display_name": "Python 3"
    },
    "language_info": {
      "name": "python"
    }
  },
  "cells": [
    {
      "cell_type": "markdown",
      "metadata": {
        "id": "view-in-github",
        "colab_type": "text"
      },
      "source": [
        "<a href=\"https://colab.research.google.com/github/jrafaelcampoi/tutorial-python/blob/main/Exemplo_Morfologia.ipynb\" target=\"_parent\"><img src=\"https://colab.research.google.com/assets/colab-badge.svg\" alt=\"Open In Colab\"/></a>"
      ]
    },
    {
      "cell_type": "markdown",
      "source": [
        "Universidade do Vale do Itajaí<br>\n",
        "Escola do Mar, Ciência e Tecnologia<br>\n",
        "Professor Felipe Viel<br>\n",
        "**João Rafael de Souza Campoi - 8070253**\n",
        "\n",
        "# Exemplo Morfologia"
      ],
      "metadata": {
        "id": "hs7F3RjrUjCH"
      }
    },
    {
      "cell_type": "markdown",
      "source": [
        "Neste trecho inicial, ocorre a importação da biblioteca 'cv2' para o processamento de imagem e o \"numpy\" para que seja feita a manipulação das matrizes."
      ],
      "metadata": {
        "id": "d5hokWyzWXfM"
      }
    },
    {
      "cell_type": "code",
      "execution_count": 1,
      "metadata": {
        "id": "9ieiSWN_Uh5b"
      },
      "outputs": [],
      "source": [
        "#from https://opencv-python-tutroals.readthedocs.io/en/latest/py_tutorials/py_imgproc/py_morphological_ops/py_morphological_ops.html\n",
        "import cv2\n",
        "import numpy as np\n",
        "#caso for usar o Google Colab com a OpenCV, usar a lib abaixo\n",
        "from google.colab.patches import cv2_imshow\n",
        ""
      ]
    },
    {
      "cell_type": "markdown",
      "source": [
        "Nessas 3 linhas de código é feito a leitura no script 'cv2.imread()' em que se atribui na variável.\n",
        "O \"j\" fica atribuido a \"img\", \"j_ruido\" à \"img_opening\" e \"j_furos\" à \"img_closing\".\n",
        "O número \"0\" (zero) é um parametro a qual indica que a imagem deve ser carregada em modo de escala de cinza."
      ],
      "metadata": {
        "id": "RAwWo1CvXg5f"
      }
    },
    {
      "cell_type": "code",
      "source": [
        "img = cv2.imread('j.png',0)\n",
        "img_opening = cv2.imread('j_ruido.png',0)\n",
        "img_closing = cv2.imread('j_furos.png',0)"
      ],
      "metadata": {
        "id": "8whvZbKhU03S"
      },
      "execution_count": null,
      "outputs": []
    },
    {
      "cell_type": "markdown",
      "source": [
        "Abaixo é a linha se extrai as dimensões das \"img\" usando o termo \"shape\"."
      ],
      "metadata": {
        "id": "eNingdcdX2vN"
      }
    },
    {
      "cell_type": "code",
      "source": [
        "altura, largura = img.shape"
      ],
      "metadata": {
        "id": "psZTrOoaXNS0"
      },
      "execution_count": null,
      "outputs": []
    },
    {
      "cell_type": "markdown",
      "source": [
        "Uma matriz 5x5 é criado com elementos 1.\n",
        "\n",
        "O np.ones é uma função da biblioteca NumPy que retorna uma matriz identidade inversa.\n",
        "O \"np.uint8\" é o tipo de dado que carrega a matriz usando números inteiros sem sinal de 8 bits."
      ],
      "metadata": {
        "id": "e0vrS6rqYFNJ"
      }
    },
    {
      "cell_type": "code",
      "source": [
        "kernel = np.ones((5,5),np.uint8)\n",
        "print(kernel)"
      ],
      "metadata": {
        "id": "NlgmVCi4XcDE"
      },
      "execution_count": null,
      "outputs": []
    },
    {
      "cell_type": "markdown",
      "source": [
        "Se executa a erosão e a dilatação das imagens, e são igualadas às variáveis \"erosion\" e \"dilation\". A erosão e a dilatação estão sendo aplicadas duas vezes indicado pelo evento 'iterations'."
      ],
      "metadata": {
        "id": "QLwOljXPZ5E7"
      }
    },
    {
      "cell_type": "code",
      "source": [
        "erosion = cv2.erode(img,kernel,iterations = 2)\n",
        "dilation = cv2.dilate(img,kernel,iterations = 2)"
      ],
      "metadata": {
        "id": "RnKcRcjsU8VP"
      },
      "execution_count": null,
      "outputs": []
    },
    {
      "cell_type": "markdown",
      "source": [
        "Basicamente está sendo aplicando, respectivamente, a operação de gradiente morfológico na imagem \"img\". A operação de abertura é acionada e na terceira linha temos o fechamento."
      ],
      "metadata": {
        "id": "65TpJeFraliG"
      }
    },
    {
      "cell_type": "code",
      "source": [
        "gradient = cv2.morphologyEx(img, cv2.MORPH_GRADIENT, kernel)\n",
        "opening = cv2.morphologyEx(img_opening, cv2.MORPH_OPEN, kernel)\n",
        "closing = cv2.morphologyEx(img_closing, cv2.MORPH_CLOSE, kernel)"
      ],
      "metadata": {
        "id": "WvTtlQWJU-tz"
      },
      "execution_count": null,
      "outputs": []
    },
    {
      "cell_type": "markdown",
      "source": [
        "As últimas linhas chamam as funçõe para imprimir ao usuário as imagens já operacionalizadas."
      ],
      "metadata": {
        "id": "pG7h31l-aobT"
      }
    },
    {
      "cell_type": "code",
      "source": [
        "#Caso use o Google Colab\n",
        "cv2_imshow(img)\n",
        "cv2_imshow(erosion)\n",
        "cv2_imshow(dilation)\n",
        "cv2_imshow(opening)\n",
        "cv2_imshow(closing)\n",
        "cv2_imshow(gradient)"
      ],
      "metadata": {
        "id": "iMJ7o6EgVA_r"
      },
      "execution_count": null,
      "outputs": []
    }
  ]
}